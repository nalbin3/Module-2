{
 "cells": [
  {
   "cell_type": "code",
   "execution_count": null,
   "id": "c23078a9-482a-4852-a274-9027495016d0",
   "metadata": {},
   "outputs": [
    {
     "name": "stdin",
     "output_type": "stream",
     "text": [
      "Enter the student's last name (or 'ZZZ' to quit):  Albin\n",
      "Enter the student's first name:  Nick\n",
      "Enter the student's GPA:  3.8\n"
     ]
    },
    {
     "name": "stdout",
     "output_type": "stream",
     "text": [
      "  → Nick Albin has made the Dean's List.\n",
      "\n"
     ]
    },
    {
     "name": "stdin",
     "output_type": "stream",
     "text": [
      "Enter the student's last name (or 'ZZZ' to quit):  Joe\n",
      "Enter the student's first name:  Smith\n",
      "Enter the student's GPA:  2.9\n"
     ]
    },
    {
     "name": "stdout",
     "output_type": "stream",
     "text": [
      "  → Smith Joe does not qualify for honors.\n",
      "\n"
     ]
    }
   ],
   "source": [
    "\"\"\"\n",
    "Name: Nick Albin\n",
    "File: student_honors.py\n",
    "Description: \n",
    "    Repeatedly accepts student last name, first name, and GPA.\n",
    "    Stops when last name 'ZZZ' is entered.\n",
    "    For each student, prints whether they made the Dean's List,\n",
    "    the Honor Roll, or neither.\n",
    "\"\"\"\n",
    "while True:\n",
    "        last_name = input(\"Enter the student's last name (or 'ZZZ' to quit): \").strip()\n",
    "        if last_name.upper() == 'ZZZ':\n",
    "            print(\"Exiting program.\")\n",
    "            break\n",
    "\n",
    "        first_name = input(\"Enter the student's first name: \").strip()\n",
    "        try:\n",
    "            gpa = float(input(\"Enter the student's GPA: \").strip())\n",
    "        except ValueError:\n",
    "            print(\"  → Invalid GPA. Please enter a numeric value.\\n\")\n",
    "            continue\n",
    "\n",
    "        if gpa >= 3.5:\n",
    "            print(f\"  → {first_name} {last_name} has made the Dean's List.\\n\")\n",
    "        elif gpa >= 3.25:\n",
    "            print(f\"  → {first_name} {last_name} has made the Honor Roll.\\n\")\n",
    "        else:\n",
    "            print(f\"  → {first_name} {last_name} does not qualify for honors.\\n\")"
   ]
  },
  {
   "cell_type": "code",
   "execution_count": null,
   "id": "35a4c5a5-3be3-4019-b365-c4ece1e50fa0",
   "metadata": {},
   "outputs": [],
   "source": []
  }
 ],
 "metadata": {
  "kernelspec": {
   "display_name": "Python [conda env:base] *",
   "language": "python",
   "name": "conda-base-py"
  },
  "language_info": {
   "codemirror_mode": {
    "name": "ipython",
    "version": 3
   },
   "file_extension": ".py",
   "mimetype": "text/x-python",
   "name": "python",
   "nbconvert_exporter": "python",
   "pygments_lexer": "ipython3",
   "version": "3.12.7"
  }
 },
 "nbformat": 4,
 "nbformat_minor": 5
}
